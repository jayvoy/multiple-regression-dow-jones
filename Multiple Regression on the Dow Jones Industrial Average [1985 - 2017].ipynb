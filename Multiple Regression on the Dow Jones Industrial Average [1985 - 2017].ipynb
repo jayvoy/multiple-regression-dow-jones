{
 "cells": [
  {
   "cell_type": "code",
   "execution_count": 1,
   "metadata": {},
   "outputs": [],
   "source": [
    "import pandas as pd\n",
    "import numpy as np\n",
    "import datetime as dt\n",
    "from sklearn import linear_model\n",
    "from functools import reduce\n",
    "\n",
    "import matplotlib.pyplot as plt\n",
    "%matplotlib inline"
   ]
  },
  {
   "cell_type": "code",
   "execution_count": 2,
   "metadata": {},
   "outputs": [],
   "source": [
    "def unemployment_clean(df, year, month):\n",
    "    df['Date'] = pd.to_datetime((df[year].map(str) + \"-\" + df[month].str[1:] + \"-01\"), format = \"%Y-%m-%d\").dt.date\n",
    "    df.rename(index=str, columns={'Value':'Unemployment Rate'}, inplace=True)\n",
    "    df.drop(columns=['Series id', year, 'Period'], inplace=True)\n",
    "\n",
    "    return df\n",
    "\n",
    "def dow_clean(df, date, close):\n",
    "    df['adjDate'] = pd.to_datetime(df[date], format = \"%m/%d/%Y\").dt.date\n",
    "    newDF = pd.DataFrame(df[['adjDate', close]])\n",
    "    newDF.rename(index=str, columns={'adjDate':'Date', 'Close':'Dow Jones Price'}, inplace=True)\n",
    "    newDF['Dow Jones Price'] = newDF['Dow Jones Price'].apply(lambda x: round(x,2))\n",
    "    \n",
    "    return newDF\n",
    "\n",
    "\n",
    "def cpi_clean(df, year, month):\n",
    "    #x = pd.Series(df[year].map(str) + \"-\" + df[month].str[1:] + \"-01\")\n",
    "    df['Date'] = pd.to_datetime((df[year].map(str) + \"-\" + df[month].str[1:] + \"-01\"), format = \"%Y-%m-%d\").dt.date\n",
    "    df.rename(index=str, columns={'Value':'CPI'}, inplace=True)\n",
    "    \n",
    "    #df.drop(columns=['footnote_codes'], inplace=True)\n",
    "    df.sort_values('Date', ascending=False, inplace=True)\n",
    "    df['CPI'] = df['CPI'].apply(lambda x: round(x,1))\n",
    "    \n",
    "    #some \"Periods\" contain 'MXX', we need to drop the 'M's\n",
    "    df = df[df['Period'].str.contains(\"M\")]\n",
    "    return df\n",
    "\n",
    "\n",
    "def fed_funds_clean(fed_funds_df):\n",
    "    #remove header\n",
    "    df = pd.DataFrame(fed_funds_df[5:])\n",
    "    \n",
    "    #change column name\n",
    "    df.rename(index=str, columns={'Federal funds effective rate': 'Fed Funds Rate'}, inplace=True)\n",
    "    \n",
    "    #convert date to datetime\n",
    "    df['Date'] = pd.to_datetime((df['Series Description'].str[0:4] + \"-\" + df['Series Description'].str[5:] + \"-01\"), format = \"%Y-%m-%d\").dt.date\n",
    "    \n",
    "    #drop old date column, 'Series Description'\n",
    "    df.drop(columns='Series Description', inplace=True)\n",
    "    \n",
    "    return df\n",
    "\n",
    "\n",
    "def merge_all_dataframes(dow, fed_funds, cpi, unemployment):\n",
    "    dfs = [dow, fed_funds, cpi, unemployment]\n",
    "    df_final = reduce(lambda left,right: pd.merge(left,right,on='Date'), dfs)\n",
    "    df_final.drop(columns=['Series Id', 'Year', 'Period'], inplace=True)\n",
    "    return df_final"
   ]
  },
  {
   "cell_type": "markdown",
   "metadata": {},
   "source": [
    "## Import and clean Dow Jones Price data"
   ]
  },
  {
   "cell_type": "code",
   "execution_count": 3,
   "metadata": {},
   "outputs": [
    {
     "data": {
      "text/html": [
       "<div>\n",
       "<style scoped>\n",
       "    .dataframe tbody tr th:only-of-type {\n",
       "        vertical-align: middle;\n",
       "    }\n",
       "\n",
       "    .dataframe tbody tr th {\n",
       "        vertical-align: top;\n",
       "    }\n",
       "\n",
       "    .dataframe thead th {\n",
       "        text-align: right;\n",
       "    }\n",
       "</style>\n",
       "<table border=\"1\" class=\"dataframe\">\n",
       "  <thead>\n",
       "    <tr style=\"text-align: right;\">\n",
       "      <th></th>\n",
       "      <th>Date</th>\n",
       "      <th>Dow Jones Price</th>\n",
       "    </tr>\n",
       "  </thead>\n",
       "  <tbody>\n",
       "    <tr>\n",
       "      <th>0</th>\n",
       "      <td>1985-01-01</td>\n",
       "      <td>1286.77</td>\n",
       "    </tr>\n",
       "    <tr>\n",
       "      <th>1</th>\n",
       "      <td>1985-02-01</td>\n",
       "      <td>1284.01</td>\n",
       "    </tr>\n",
       "    <tr>\n",
       "      <th>2</th>\n",
       "      <td>1985-03-01</td>\n",
       "      <td>1266.78</td>\n",
       "    </tr>\n",
       "    <tr>\n",
       "      <th>3</th>\n",
       "      <td>1985-04-01</td>\n",
       "      <td>1258.06</td>\n",
       "    </tr>\n",
       "    <tr>\n",
       "      <th>4</th>\n",
       "      <td>1985-05-01</td>\n",
       "      <td>1315.41</td>\n",
       "    </tr>\n",
       "  </tbody>\n",
       "</table>\n",
       "</div>"
      ],
      "text/plain": [
       "         Date  Dow Jones Price\n",
       "0  1985-01-01          1286.77\n",
       "1  1985-02-01          1284.01\n",
       "2  1985-03-01          1266.78\n",
       "3  1985-04-01          1258.06\n",
       "4  1985-05-01          1315.41"
      ]
     },
     "execution_count": 3,
     "metadata": {},
     "output_type": "execute_result"
    }
   ],
   "source": [
    "dow_jones = pd.read_csv('dow_jones_prices.csv')\n",
    "df_dow = dow_clean(dow_jones, 'Date', 'Close')\n",
    "df_dow.head()"
   ]
  },
  {
   "cell_type": "markdown",
   "metadata": {},
   "source": [
    "## Import and clean Unemployment data"
   ]
  },
  {
   "cell_type": "code",
   "execution_count": 4,
   "metadata": {},
   "outputs": [
    {
     "data": {
      "text/html": [
       "<div>\n",
       "<style scoped>\n",
       "    .dataframe tbody tr th:only-of-type {\n",
       "        vertical-align: middle;\n",
       "    }\n",
       "\n",
       "    .dataframe tbody tr th {\n",
       "        vertical-align: top;\n",
       "    }\n",
       "\n",
       "    .dataframe thead th {\n",
       "        text-align: right;\n",
       "    }\n",
       "</style>\n",
       "<table border=\"1\" class=\"dataframe\">\n",
       "  <thead>\n",
       "    <tr style=\"text-align: right;\">\n",
       "      <th></th>\n",
       "      <th>Unemployment Rate</th>\n",
       "      <th>Date</th>\n",
       "    </tr>\n",
       "  </thead>\n",
       "  <tbody>\n",
       "    <tr>\n",
       "      <th>0</th>\n",
       "      <td>3.4</td>\n",
       "      <td>1948-01-01</td>\n",
       "    </tr>\n",
       "    <tr>\n",
       "      <th>1</th>\n",
       "      <td>3.8</td>\n",
       "      <td>1948-02-01</td>\n",
       "    </tr>\n",
       "    <tr>\n",
       "      <th>2</th>\n",
       "      <td>4.0</td>\n",
       "      <td>1948-03-01</td>\n",
       "    </tr>\n",
       "    <tr>\n",
       "      <th>3</th>\n",
       "      <td>3.9</td>\n",
       "      <td>1948-04-01</td>\n",
       "    </tr>\n",
       "    <tr>\n",
       "      <th>4</th>\n",
       "      <td>3.5</td>\n",
       "      <td>1948-05-01</td>\n",
       "    </tr>\n",
       "  </tbody>\n",
       "</table>\n",
       "</div>"
      ],
      "text/plain": [
       "   Unemployment Rate        Date\n",
       "0                3.4  1948-01-01\n",
       "1                3.8  1948-02-01\n",
       "2                4.0  1948-03-01\n",
       "3                3.9  1948-04-01\n",
       "4                3.5  1948-05-01"
      ]
     },
     "execution_count": 4,
     "metadata": {},
     "output_type": "execute_result"
    }
   ],
   "source": [
    "unemployment_data = pd.read_csv('unemployed.csv')\n",
    "df_unemployment = unemployment_clean(unemployment_data, 'Year', 'Period')\n",
    "df_unemployment.head()"
   ]
  },
  {
   "cell_type": "markdown",
   "metadata": {},
   "source": [
    "## Import and clean CPI data"
   ]
  },
  {
   "cell_type": "code",
   "execution_count": 5,
   "metadata": {},
   "outputs": [
    {
     "data": {
      "text/html": [
       "<div>\n",
       "<style scoped>\n",
       "    .dataframe tbody tr th:only-of-type {\n",
       "        vertical-align: middle;\n",
       "    }\n",
       "\n",
       "    .dataframe tbody tr th {\n",
       "        vertical-align: top;\n",
       "    }\n",
       "\n",
       "    .dataframe thead th {\n",
       "        text-align: right;\n",
       "    }\n",
       "</style>\n",
       "<table border=\"1\" class=\"dataframe\">\n",
       "  <thead>\n",
       "    <tr style=\"text-align: right;\">\n",
       "      <th></th>\n",
       "      <th>Series Id</th>\n",
       "      <th>Year</th>\n",
       "      <th>Period</th>\n",
       "      <th>CPI</th>\n",
       "      <th>Date</th>\n",
       "    </tr>\n",
       "  </thead>\n",
       "  <tbody>\n",
       "    <tr>\n",
       "      <th>1328</th>\n",
       "      <td>CUUR0000SA0</td>\n",
       "      <td>2018</td>\n",
       "      <td>M01</td>\n",
       "      <td>247.9</td>\n",
       "      <td>2018-01-01</td>\n",
       "    </tr>\n",
       "    <tr>\n",
       "      <th>1325</th>\n",
       "      <td>CUUR0000SA0</td>\n",
       "      <td>2017</td>\n",
       "      <td>M12</td>\n",
       "      <td>246.5</td>\n",
       "      <td>2017-12-01</td>\n",
       "    </tr>\n",
       "    <tr>\n",
       "      <th>1324</th>\n",
       "      <td>CUUR0000SA0</td>\n",
       "      <td>2017</td>\n",
       "      <td>M11</td>\n",
       "      <td>246.7</td>\n",
       "      <td>2017-11-01</td>\n",
       "    </tr>\n",
       "    <tr>\n",
       "      <th>1323</th>\n",
       "      <td>CUUR0000SA0</td>\n",
       "      <td>2017</td>\n",
       "      <td>M10</td>\n",
       "      <td>246.7</td>\n",
       "      <td>2017-10-01</td>\n",
       "    </tr>\n",
       "    <tr>\n",
       "      <th>1322</th>\n",
       "      <td>CUUR0000SA0</td>\n",
       "      <td>2017</td>\n",
       "      <td>M09</td>\n",
       "      <td>246.8</td>\n",
       "      <td>2017-09-01</td>\n",
       "    </tr>\n",
       "  </tbody>\n",
       "</table>\n",
       "</div>"
      ],
      "text/plain": [
       "        Series Id  Year Period    CPI        Date\n",
       "1328  CUUR0000SA0  2018    M01  247.9  2018-01-01\n",
       "1325  CUUR0000SA0  2017    M12  246.5  2017-12-01\n",
       "1324  CUUR0000SA0  2017    M11  246.7  2017-11-01\n",
       "1323  CUUR0000SA0  2017    M10  246.7  2017-10-01\n",
       "1322  CUUR0000SA0  2017    M09  246.8  2017-09-01"
      ]
     },
     "execution_count": 5,
     "metadata": {},
     "output_type": "execute_result"
    }
   ],
   "source": [
    "cpi = pd.read_csv('cpi.csv')\n",
    "df_cpi = cpi_clean(cpi, 'Year', 'Period')\n",
    "df_cpi.head()"
   ]
  },
  {
   "cell_type": "markdown",
   "metadata": {},
   "source": [
    "## Import and clean Fed Funds data"
   ]
  },
  {
   "cell_type": "code",
   "execution_count": 6,
   "metadata": {},
   "outputs": [
    {
     "data": {
      "text/html": [
       "<div>\n",
       "<style scoped>\n",
       "    .dataframe tbody tr th:only-of-type {\n",
       "        vertical-align: middle;\n",
       "    }\n",
       "\n",
       "    .dataframe tbody tr th {\n",
       "        vertical-align: top;\n",
       "    }\n",
       "\n",
       "    .dataframe thead th {\n",
       "        text-align: right;\n",
       "    }\n",
       "</style>\n",
       "<table border=\"1\" class=\"dataframe\">\n",
       "  <thead>\n",
       "    <tr style=\"text-align: right;\">\n",
       "      <th></th>\n",
       "      <th>Fed Funds Rate</th>\n",
       "      <th>Date</th>\n",
       "    </tr>\n",
       "  </thead>\n",
       "  <tbody>\n",
       "    <tr>\n",
       "      <th>5</th>\n",
       "      <td>0.8</td>\n",
       "      <td>1954-07-01</td>\n",
       "    </tr>\n",
       "    <tr>\n",
       "      <th>6</th>\n",
       "      <td>1.22</td>\n",
       "      <td>1954-08-01</td>\n",
       "    </tr>\n",
       "    <tr>\n",
       "      <th>7</th>\n",
       "      <td>1.06</td>\n",
       "      <td>1954-09-01</td>\n",
       "    </tr>\n",
       "    <tr>\n",
       "      <th>8</th>\n",
       "      <td>0.85</td>\n",
       "      <td>1954-10-01</td>\n",
       "    </tr>\n",
       "    <tr>\n",
       "      <th>9</th>\n",
       "      <td>0.83</td>\n",
       "      <td>1954-11-01</td>\n",
       "    </tr>\n",
       "  </tbody>\n",
       "</table>\n",
       "</div>"
      ],
      "text/plain": [
       "  Fed Funds Rate        Date\n",
       "5            0.8  1954-07-01\n",
       "6           1.22  1954-08-01\n",
       "7           1.06  1954-09-01\n",
       "8           0.85  1954-10-01\n",
       "9           0.83  1954-11-01"
      ]
     },
     "execution_count": 6,
     "metadata": {},
     "output_type": "execute_result"
    }
   ],
   "source": [
    "fed_funds = pd.read_csv('fed_funds.csv')\n",
    "df_fed_funds = fed_funds_clean(fed_funds)\n",
    "df_fed_funds.head()"
   ]
  },
  {
   "cell_type": "markdown",
   "metadata": {},
   "source": [
    "## Merge all dataframes"
   ]
  },
  {
   "cell_type": "code",
   "execution_count": 7,
   "metadata": {},
   "outputs": [
    {
     "data": {
      "text/html": [
       "<div>\n",
       "<style scoped>\n",
       "    .dataframe tbody tr th:only-of-type {\n",
       "        vertical-align: middle;\n",
       "    }\n",
       "\n",
       "    .dataframe tbody tr th {\n",
       "        vertical-align: top;\n",
       "    }\n",
       "\n",
       "    .dataframe thead th {\n",
       "        text-align: right;\n",
       "    }\n",
       "</style>\n",
       "<table border=\"1\" class=\"dataframe\">\n",
       "  <thead>\n",
       "    <tr style=\"text-align: right;\">\n",
       "      <th></th>\n",
       "      <th>Date</th>\n",
       "      <th>Dow Jones Price</th>\n",
       "      <th>Fed Funds Rate</th>\n",
       "      <th>CPI</th>\n",
       "      <th>Unemployment Rate</th>\n",
       "    </tr>\n",
       "  </thead>\n",
       "  <tbody>\n",
       "    <tr>\n",
       "      <th>0</th>\n",
       "      <td>1985-01-01</td>\n",
       "      <td>1286.77</td>\n",
       "      <td>8.35</td>\n",
       "      <td>105.5</td>\n",
       "      <td>7.3</td>\n",
       "    </tr>\n",
       "    <tr>\n",
       "      <th>1</th>\n",
       "      <td>1985-02-01</td>\n",
       "      <td>1284.01</td>\n",
       "      <td>8.5</td>\n",
       "      <td>106.0</td>\n",
       "      <td>7.2</td>\n",
       "    </tr>\n",
       "    <tr>\n",
       "      <th>2</th>\n",
       "      <td>1985-03-01</td>\n",
       "      <td>1266.78</td>\n",
       "      <td>8.58</td>\n",
       "      <td>106.4</td>\n",
       "      <td>7.2</td>\n",
       "    </tr>\n",
       "    <tr>\n",
       "      <th>3</th>\n",
       "      <td>1985-04-01</td>\n",
       "      <td>1258.06</td>\n",
       "      <td>8.27</td>\n",
       "      <td>106.9</td>\n",
       "      <td>7.3</td>\n",
       "    </tr>\n",
       "    <tr>\n",
       "      <th>4</th>\n",
       "      <td>1985-05-01</td>\n",
       "      <td>1315.41</td>\n",
       "      <td>7.97</td>\n",
       "      <td>107.3</td>\n",
       "      <td>7.2</td>\n",
       "    </tr>\n",
       "  </tbody>\n",
       "</table>\n",
       "</div>"
      ],
      "text/plain": [
       "         Date  Dow Jones Price Fed Funds Rate    CPI  Unemployment Rate\n",
       "0  1985-01-01          1286.77           8.35  105.5                7.3\n",
       "1  1985-02-01          1284.01            8.5  106.0                7.2\n",
       "2  1985-03-01          1266.78           8.58  106.4                7.2\n",
       "3  1985-04-01          1258.06           8.27  106.9                7.3\n",
       "4  1985-05-01          1315.41           7.97  107.3                7.2"
      ]
     },
     "execution_count": 7,
     "metadata": {},
     "output_type": "execute_result"
    }
   ],
   "source": [
    "df = merge_all_dataframes(df_dow, df_fed_funds, df_cpi, df_unemployment)\n",
    "df.head()"
   ]
  },
  {
   "cell_type": "markdown",
   "metadata": {},
   "source": [
    "## Let's first try and predict the dow using only one feature"
   ]
  },
  {
   "cell_type": "markdown",
   "metadata": {},
   "source": [
    "#### First, let's use the fed funds rate"
   ]
  },
  {
   "cell_type": "code",
   "execution_count": 8,
   "metadata": {},
   "outputs": [],
   "source": [
    "columns = ['Fed Funds Rate']"
   ]
  },
  {
   "cell_type": "code",
   "execution_count": 9,
   "metadata": {},
   "outputs": [
    {
     "data": {
      "text/plain": [
       "LinearRegression(copy_X=True, fit_intercept=True, n_jobs=1, normalize=False)"
      ]
     },
     "execution_count": 9,
     "metadata": {},
     "output_type": "execute_result"
    }
   ],
   "source": [
    "x = df[columns]\n",
    "y = df['Dow Jones Price']\n",
    "model = linear_model.LinearRegression()\n",
    "model.fit(x,y)"
   ]
  },
  {
   "cell_type": "code",
   "execution_count": 10,
   "metadata": {},
   "outputs": [
    {
     "data": {
      "text/plain": [
       "array([-1372.69914471])"
      ]
     },
     "execution_count": 10,
     "metadata": {},
     "output_type": "execute_result"
    }
   ],
   "source": [
    "model.coef_"
   ]
  },
  {
   "cell_type": "code",
   "execution_count": 11,
   "metadata": {},
   "outputs": [
    {
     "data": {
      "text/plain": [
       "13964.92953617147"
      ]
     },
     "execution_count": 11,
     "metadata": {},
     "output_type": "execute_result"
    }
   ],
   "source": [
    "model.intercept_"
   ]
  },
  {
   "cell_type": "code",
   "execution_count": 12,
   "metadata": {},
   "outputs": [
    {
     "data": {
      "text/plain": [
       "[<matplotlib.lines.Line2D at 0xec42cf0>]"
      ]
     },
     "execution_count": 12,
     "metadata": {},
     "output_type": "execute_result"
    },
    {
     "data": {
      "image/png": "[encoded data removed]",
      "text/plain": [
       "<matplotlib.figure.Figure at 0xdbf39f0>"
      ]
     },
     "metadata": {},
     "output_type": "display_data"
    }
   ],
   "source": [
    "#plt.figure(num=1, figsize=(12, 8))\n",
    "plt.plot(df['Date'],df['Dow Jones Price'],'-')\n",
    "plt.plot(df['Date'], model.predict(x),'--')"
   ]
  },
  {
   "cell_type": "markdown",
   "metadata": {},
   "source": [
    "#### Yikes! That doesn't look good.  Let's try a prediction using CPI data"
   ]
  },
  {
   "cell_type": "code",
   "execution_count": 13,
   "metadata": {},
   "outputs": [],
   "source": [
    "columns = ['CPI']"
   ]
  },
  {
   "cell_type": "code",
   "execution_count": 14,
   "metadata": {},
   "outputs": [
    {
     "data": {
      "text/plain": [
       "[<matplotlib.lines.Line2D at 0xecd2890>]"
      ]
     },
     "execution_count": 14,
     "metadata": {},
     "output_type": "execute_result"
    },
    {
     "data": {
      "image/png": "[encoded data removed]",
      "text/plain": [
       "<matplotlib.figure.Figure at 0xec696f0>"
      ]
     },
     "metadata": {},
     "output_type": "display_data"
    }
   ],
   "source": [
    "x = df[columns]\n",
    "y = df['Dow Jones Price']\n",
    "model = linear_model.LinearRegression()\n",
    "model.fit(x,y)\n",
    "#plt.figure(num=1, figsize=(12, 8))\n",
    "plt.plot(df['Date'],df['Dow Jones Price'],'-')\n",
    "plt.plot(df['Date'], model.predict(x),'--')"
   ]
  },
  {
   "cell_type": "markdown",
   "metadata": {},
   "source": [
    "#### This looks better.  But it still doesn't look good.  Finally, what about the Unemployment rate as a predictor?"
   ]
  },
  {
   "cell_type": "code",
   "execution_count": 15,
   "metadata": {},
   "outputs": [],
   "source": [
    "columns = ['Unemployment Rate']"
   ]
  },
  {
   "cell_type": "code",
   "execution_count": 16,
   "metadata": {},
   "outputs": [
    {
     "data": {
      "text/plain": [
       "[<matplotlib.lines.Line2D at 0xed1a570>]"
      ]
     },
     "execution_count": 16,
     "metadata": {},
     "output_type": "execute_result"
    },
    {
     "data": {
      "image/png": "[encoded data removed]",
      "text/plain": [
       "<matplotlib.figure.Figure at 0xecb6090>"
      ]
     },
     "metadata": {},
     "output_type": "display_data"
    }
   ],
   "source": [
    "x = df[columns]\n",
    "y = df['Dow Jones Price']\n",
    "model = linear_model.LinearRegression()\n",
    "model.fit(x,y)\n",
    "#plt.figure(num=1, figsize=(12, 8))\n",
    "plt.plot(df['Date'],df['Dow Jones Price'],'-')\n",
    "plt.plot(df['Date'], model.predict(x),'--')"
   ]
  },
  {
   "cell_type": "markdown",
   "metadata": {},
   "source": [
    "#### We're getting worse.  Though note this does exhibit a sinusoidal pattern which reflects the ebb and flow of economic cycles"
   ]
  },
  {
   "cell_type": "markdown",
   "metadata": {},
   "source": [
    "## Enough messing around, let's combine all the features and run a multiple regression"
   ]
  },
  {
   "cell_type": "code",
   "execution_count": 17,
   "metadata": {},
   "outputs": [],
   "source": [
    "columns = ['Fed Funds Rate', 'CPI', 'Unemployment Rate']"
   ]
  },
  {
   "cell_type": "code",
   "execution_count": 18,
   "metadata": {},
   "outputs": [
    {
     "data": {
      "text/plain": [
       "LinearRegression(copy_X=True, fit_intercept=True, n_jobs=1, normalize=False)"
      ]
     },
     "execution_count": 18,
     "metadata": {},
     "output_type": "execute_result"
    }
   ],
   "source": [
    "x = df[columns]\n",
    "y = df['Dow Jones Price']\n",
    "model = linear_model.LinearRegression()\n",
    "model.fit(x,y)"
   ]
  },
  {
   "cell_type": "code",
   "execution_count": 19,
   "metadata": {},
   "outputs": [
    {
     "data": {
      "text/plain": [
       "array([ -54.06113175,  118.59299918, -982.21203152])"
      ]
     },
     "execution_count": 19,
     "metadata": {},
     "output_type": "execute_result"
    }
   ],
   "source": [
    "model.coef_"
   ]
  },
  {
   "cell_type": "code",
   "execution_count": 20,
   "metadata": {},
   "outputs": [
    {
     "data": {
      "text/plain": [
       "-6095.64149855428"
      ]
     },
     "execution_count": 20,
     "metadata": {},
     "output_type": "execute_result"
    }
   ],
   "source": [
    "model.intercept_"
   ]
  },
  {
   "cell_type": "code",
   "execution_count": 21,
   "metadata": {},
   "outputs": [
    {
     "data": {
      "text/plain": [
       "[<matplotlib.lines.Line2D at 0xed53df0>]"
      ]
     },
     "execution_count": 21,
     "metadata": {},
     "output_type": "execute_result"
    },
    {
     "data": {
      "image/png": "[encoded data removed]",
      "text/plain": [
       "<matplotlib.figure.Figure at 0xed1a950>"
      ]
     },
     "metadata": {},
     "output_type": "display_data"
    }
   ],
   "source": [
    "#plt.figure(num=1, figsize=(12, 8))\n",
    "plt.plot(df['Date'],df['Dow Jones Price'],'-')\n",
    "plt.plot(df['Date'], model.predict(x),'--')"
   ]
  },
  {
   "cell_type": "markdown",
   "metadata": {},
   "source": [
    "## Much better! Though we see variance at the edges, we finally have a decent fit. "
   ]
  },
  {
   "cell_type": "markdown",
   "metadata": {},
   "source": [
    "#### Note: This was a simple example.  It did not include any training/test set, cross-validation, feature normalization or regularization.  If your goal was to use this model for predicting the stock market, you would want to go a few steps further."
   ]
  },
  {
   "cell_type": "code",
   "execution_count": null,
   "metadata": {},
   "outputs": [],
   "source": []
  }
 ],
 "metadata": {
  "kernelspec": {
   "display_name": "Python 3",
   "language": "python",
   "name": "python3"
  },
  "language_info": {
   "codemirror_mode": {
    "name": "ipython",
    "version": 3
   },
   "file_extension": ".py",
   "mimetype": "text/x-python",
   "name": "python",
   "nbconvert_exporter": "python",
   "pygments_lexer": "ipython3",
   "version": "3.6.4"
  }
 },
 "nbformat": 4,
 "nbformat_minor": 2
}
